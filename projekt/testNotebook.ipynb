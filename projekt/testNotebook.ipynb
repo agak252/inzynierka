{
    "cells": [
        {
            "cell_type": "markdown",
            "metadata": {},
            "source": [
                "# testowe otwieranie"
            ]
        },
        {
            "cell_type": "markdown",
            "metadata": {},
            "source": [
                "wczytanie pliku konfiguracyjnego -> są tam wszystkie ścieżki do potrzebnych zbiorów i labeli"
            ]
        },
        {
            "cell_type": "code",
            "execution_count": null,
            "metadata": {},
            "outputs": [],
            "source": [
                "import os\n",
                "import json\n",
                "\n",
                "base_path = r'C:\\Users\\agata\\OneDrive\\Desktop\\praca\\braintumour\\Task01_BrainTumour'\n",
                "\n"
            ]
        },
        {
            "cell_type": "code",
            "execution_count": 1,
            "metadata": {},
            "outputs": [
                {
                    "ename": "",
                    "evalue": "",
                    "output_type": "error",
                    "traceback": [
                        "\u001b[1;31mJądro Kernel uległo awarii podczas wykonywania kodu w bieżącej komórce lub w poprzedniej komórce. Przejrzyj kod w komórkach, aby zidentyfikować możliwą przyczynę awarii. Kliknij <a href='https://aka.ms/vscodeJupyterKernelCrash'>tutaj</a>, aby uzyskać więcej informacji. W celu uzyskania dalszych szczegółów, wyświetl <a href='command:jupyter.viewOutput'>log</a> Jupyter."
                    ]
                }
            ],
            "source": [
                "import SimpleITK as sitk\n",
                "from PIL import Image as im\n",
                "\n",
                "# A path to a T1-weighted brain .nii image:\n",
                "file = imagesTr\\BRATS_001.nii.gz'\n",
                "\n",
                "# Read the .nii image containing the volume with SimpleITK:\n",
                "sitk_t1 = sitk.ReadImage(file)\n",
                "\n",
                "# and access the numpy array:\n",
                "t1 = sitk.GetArrayFromImage(sitk_t1)\n",
                "slice = t1[0, 80,:, :]\n",
                "data = im.fromarray(slice)\n",
                "data.show()"
            ]
        }
    ],
    "metadata": {
        "kernelspec": {
            "display_name": "Python 3.10.8 64-bit (microsoft store)",
            "language": "python",
            "name": "python3"
        },
        "language_info": {
            "codemirror_mode": {
                "name": "ipython",
                "version": 3
            },
            "file_extension": ".py",
            "mimetype": "text/x-python",
            "name": "python",
            "nbconvert_exporter": "python",
            "pygments_lexer": "ipython3",
            "version": "3.10.8"
        },
        "orig_nbformat": 4,
        "vscode": {
            "interpreter": {
                "hash": "34523fb048b0d9467f4c116b0d855c0a18c43d2ce1432db52529735c49354664"
            }
        }
    },
    "nbformat": 4,
    "nbformat_minor": 2
}
